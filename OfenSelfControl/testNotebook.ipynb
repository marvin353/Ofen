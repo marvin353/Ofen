{
 "cells": [
  {
   "cell_type": "code",
   "execution_count": 20,
   "outputs": [
    {
     "name": "stdout",
     "text": [
      "X: [97 55 92 12  9 64  1]\n[ 2  3  4  5 97 55 92 12  9 64  1]\n"
     ],
     "output_type": "stream"
    }
   ],
   "source": [
    "import numpy as np\n",
    "x = np.random.randint(0,100,7)\n",
    "print(\"X: \" + str(x))\n",
    "\n",
    "a = [1,2,3,4,5]\n",
    "l = a.append(8)\n",
    "b = np.append(a[1:5],x)\n",
    "print(b)\n"
   ],
   "metadata": {
    "collapsed": false,
    "pycharm": {
     "name": "#%%\n",
     "is_executing": false
    }
   }
  },
  {
   "cell_type": "code",
   "execution_count": 4,
   "outputs": [
    {
     "name": "stdout",
     "text": [
      "Drosselklappe: 66%\n"
     ],
     "output_type": "stream"
    }
   ],
   "source": [
    "value = 0.66\n",
    "print(\"Drosselklappe: \" + str(int(value * 100)) + \"%\")"
   ],
   "metadata": {
    "collapsed": false,
    "pycharm": {
     "name": "#%%\n",
     "is_executing": false
    }
   }
  },
  {
   "cell_type": "code",
   "execution_count": 12,
   "outputs": [
    {
     "name": "stdout",
     "text": [
      "0\ntime to add more wood\n"
     ],
     "output_type": "stream"
    }
   ],
   "source": [
    "step = 0\n",
    "print(step)\n",
    "\n",
    "\n",
    "\n",
    "def triggerAlert(code):\n",
    "    if code == \"lessWood\":\n",
    "        #trigger push notification for adding new wood\n",
    "        print(\"time to add more wood\")\n",
    "        \n",
    "triggerAlert(\"lessWood\")\n"
   ],
   "metadata": {
    "collapsed": false,
    "pycharm": {
     "name": "#%%\n",
     "is_executing": false
    }
   }
  },
  {
   "cell_type": "code",
   "execution_count": null,
   "outputs": [
    {
     "name": "stdout",
     "text": [
      "[2020-06-07 14:43:49,961] [timeloop] [INFO] Starting Timeloop..\n",
      "[2020-06-07 14:43:49,962] [timeloop] [INFO] Timeloop now started. Jobs will run based on the interval set\n"
     ],
     "output_type": "stream"
    }
   ],
   "source": [
    "import numpy as np\n",
    "import time\n",
    "from timeloop import Timeloop\n",
    "from datetime import timedelta\n",
    "\n",
    "a = [1,2,3,4,5]\n",
    "\n",
    "tl = Timeloop()\n",
    "tl.start(block=True)\n",
    "\n",
    "@tl.job(interval=timedelta(seconds=2))\n",
    "def sample_job_every_2s():   \n",
    "    x = np.random.randint(0,100,1)[0]\n",
    "    b = np.append(a[1:5],x)\n",
    "    print(b)\n",
    "\n",
    "@tl.job(interval=timedelta(seconds=10))\n",
    "def stop():\n",
    "    tl.stop()\n",
    "    print(\"stop\")"
   ],
   "metadata": {
    "collapsed": false,
    "pycharm": {
     "name": "#%%\n",
     "is_executing": true
    }
   }
  },
  {
   "cell_type": "code",
   "execution_count": 17,
   "outputs": [
    {
     "name": "stdout",
     "text": [
      "3\n[[11, 2, 3, 4, 5, 6, 7], [12, 2, 3, 4, 5, 6, 7], [13, 2, 3, 4, 5, 6, 7]]\n[13, 2, 3, 4, 5, 6, 7]\n[12  2  3  4  5  6  7]\n"
     ],
     "output_type": "stream"
    }
   ],
   "source": [
    "a = [[11,2,3,4,5,6,7],[12,2,3,4,5,6,7]]\n",
    "a.append([13,2,3,4,5,6,7])\n",
    "print(len(a))\n",
    "print(a)\n",
    "\n",
    "l = a[len(a)-1]\n",
    "print(l)\n",
    "\n",
    "\n",
    "b = np.array(a)\n",
    "print(b[1])"
   ],
   "metadata": {
    "collapsed": false,
    "pycharm": {
     "name": "#%%\n",
     "is_executing": false
    }
   }
  },
  {
   "cell_type": "code",
   "execution_count": 22,
   "outputs": [
    {
     "name": "stdout",
     "text": [
      "Fan: 100% ; Drosselklappe: 73% ; CurrentTemp: 125.8; SRZs: 0.0\n"
     ],
     "output_type": "stream"
    }
   ],
   "source": [
    "fan = 1.0\n",
    "drosselklappe = 0.73\n",
    "steamRegularizers = 0.0\n",
    "currentTemp = 125.8\n",
    "\n",
    "print(\"Fan: \" + str(int(fan*100)) + \"% ; Drosselklappe: \" + str(int(drosselklappe*100)) + \"% ; CurrentTemp: \" + str(currentTemp) + \"; SRZs: \" + str(steamRegularizers)) "
   ],
   "metadata": {
    "collapsed": false,
    "pycharm": {
     "name": "#%%\n",
     "is_executing": false
    }
   }
  },
  {
   "cell_type": "code",
   "execution_count": 25,
   "outputs": [
    {
     "name": "stdout",
     "text": [
      "[ 6  7  8  9 10]\n"
     ],
     "output_type": "stream"
    }
   ],
   "source": [
    "a = [0,1,2,3,4,5,6,7,8,9]\n",
    "a.append(10)\n",
    "\n",
    "length = 5\n",
    "ind_start = len(a)-length\n",
    "b = np.array(a[ind_start:])\n",
    "\n",
    "print(b)"
   ],
   "metadata": {
    "collapsed": false,
    "pycharm": {
     "name": "#%%\n",
     "is_executing": false
    }
   }
  },
  {
   "cell_type": "code",
   "execution_count": 26,
   "outputs": [
    {
     "name": "stdout",
     "text": [
      "[1, 2, 3]\n"
     ],
     "output_type": "stream"
    }
   ],
   "source": [
    "a=[1,2,3,4,5]\n",
    "print(a[:3])"
   ],
   "metadata": {
    "collapsed": false,
    "pycharm": {
     "name": "#%%\n",
     "is_executing": false
    }
   }
  },
  {
   "cell_type": "code",
   "execution_count": 15,
   "outputs": [
    {
     "name": "stdout",
     "text": [
      "Falsenone\n"
     ],
     "output_type": "stream"
    }
   ],
   "source": [
    "alertCodes= {\"lesswood\":False, \"sensorerror\":False, \"programfail\":False , \"message\":\"none\"}\n",
    "\n",
    "print(str(alertCodes[\"lesswood\"]) + alertCodes[\"message\"])\n"
   ],
   "metadata": {
    "collapsed": false,
    "pycharm": {
     "name": "#%%\n",
     "is_executing": false
    }
   }
  },
  {
   "cell_type": "code",
   "execution_count": 18,
   "outputs": [
    {
     "name": "stdout",
     "text": [
      "Simulation: i = 1\nSimulation: i = 2\nSimulation: i = 3\nSimulation: i = 4\nSimulation: i = 5\nSimulation: i = 6\nSimulation: i = 7\nSimulation: i = 8\nSimulation: i = 9\nSimulation: i = 10\n"
     ],
     "output_type": "stream"
    }
   ],
   "source": [
    "i = 0\n",
    "isSimulation = True\n",
    "while(i < 10):\n",
    "    i = i + 1\n",
    "    if(isSimulation):\n",
    "        print(\"Simulation: i = \" + str(i) )\n",
    "        continue\n",
    "    print(\"No Simulatioln, i = \" + str(i))\n",
    "        "
   ],
   "metadata": {
    "collapsed": false,
    "pycharm": {
     "name": "#%%\n",
     "is_executing": false
    }
   }
  },
  {
   "cell_type": "code",
   "execution_count": 31,
   "outputs": [
    {
     "name": "stdout",
     "text": [
      "Value:111\nidx:11\nValue:222\nidx:22\nValue:333\nidx:33\nValue:444\nidx:44\nValue:555\nidx:55\nValue:666\nidx:66\nValue:777\nidx:77\n"
     ],
     "output_type": "stream"
    }
   ],
   "source": [
    "c = [11,22,33,44,55,66,77]\n",
    "x = [111,222,333,444,555,666,777]\n",
    "\n",
    "\n",
    "for idx, value in enumerate(x):\n",
    "    print(\"Value:\" + str(value))\n",
    "    print(\"idx:\" +str(c[idx]))    "
   ],
   "metadata": {
    "collapsed": false,
    "pycharm": {
     "name": "#%%\n",
     "is_executing": false
    }
   }
  },
  {
   "cell_type": "code",
   "execution_count": 9,
   "outputs": [
    {
     "name": "stdout",
     "text": [
      "b'Temp1:190.01-Temp2:120.02-Temp3:67.03'\nTemp1:190.01-Temp2:120.02-Temp3:67.03\n"
     ],
     "output_type": "stream"
    }
   ],
   "source": [
    "import re\n",
    "str2 = \"b'Temp1:190.01-Temp2:120.02-Temp3:67.03'\"\n",
    "strr = \"abcde\"\n",
    "print(str2)\n",
    "#str = re.sub(\"b'\",\"\",str)\n",
    "#str = re.sub(\"\\r\\n'\",\"\",str)\n",
    "str2 = str2[2:]\n",
    "str2 = str2[:-1]\n",
    "print(str2)\n",
    "\n",
    "\n",
    "if(str.lower() == \"nan\"):\n",
    "    print(\"N\")"
   ],
   "metadata": {
    "collapsed": false,
    "pycharm": {
     "name": "#%%\n",
     "is_executing": false
    }
   }
  },
  {
   "cell_type": "code",
   "execution_count": 7,
   "outputs": [
    {
     "name": "stdout",
     "text": [
      "0.17333333333333334\n"
     ],
     "output_type": "stream"
    }
   ],
   "source": [
    "t2h = 300\n",
    "ti = 47\n",
    "m = 5\n",
    "t_i1 = ti + m\n",
    "reached = t_i1 / t2h  # Wert zwischen 0.0 und 1.0\n",
    "print(reached)\n",
    "\n",
    "# Neuen Wert für Lufteinlass berechnen\n",
    "if reached <= 0.5:\n",
    "    new_AirInput_value = 1.0\n",
    "\n"
   ],
   "metadata": {
    "collapsed": false,
    "pycharm": {
     "name": "#%%\n",
     "is_executing": false
    }
   }
  }
 ],
 "metadata": {
  "language_info": {
   "codemirror_mode": {
    "name": "ipython",
    "version": 2
   },
   "file_extension": ".py",
   "mimetype": "text/x-python",
   "name": "python",
   "nbconvert_exporter": "python",
   "pygments_lexer": "ipython2",
   "version": "2.7.6"
  },
  "kernelspec": {
   "name": "pycharm-c8614f51",
   "language": "python",
   "display_name": "PyCharm (OfenSelfControl)"
  },
  "pycharm": {
   "stem_cell": {
    "cell_type": "raw",
    "source": [],
    "metadata": {
     "collapsed": false
    }
   }
  }
 },
 "nbformat": 4,
 "nbformat_minor": 0
}