{
 "cells": [
  {
   "cell_type": "code",
   "execution_count": 20,
   "outputs": [
    {
     "name": "stdout",
     "text": [
      "X: [97 55 92 12  9 64  1]\n[ 2  3  4  5 97 55 92 12  9 64  1]\n"
     ],
     "output_type": "stream"
    }
   ],
   "source": [
    "import numpy as np\n",
    "x = np.random.randint(0,100,7)\n",
    "print(\"X: \" + str(x))\n",
    "\n",
    "a = [1,2,3,4,5]\n",
    "l = a.append(8)\n",
    "b = np.append(a[1:5],x)\n",
    "print(b)\n"
   ],
   "metadata": {
    "collapsed": false,
    "pycharm": {
     "name": "#%%\n",
     "is_executing": false
    }
   }
  },
  {
   "cell_type": "code",
   "execution_count": 4,
   "outputs": [
    {
     "name": "stdout",
     "text": [
      "Drosselklappe: 66%\n"
     ],
     "output_type": "stream"
    }
   ],
   "source": [
    "value = 0.66\n",
    "print(\"Drosselklappe: \" + str(int(value * 100)) + \"%\")"
   ],
   "metadata": {
    "collapsed": false,
    "pycharm": {
     "name": "#%%\n",
     "is_executing": false
    }
   }
  },
  {
   "cell_type": "code",
   "execution_count": 12,
   "outputs": [
    {
     "name": "stdout",
     "text": [
      "0\ntime to add more wood\n"
     ],
     "output_type": "stream"
    }
   ],
   "source": [
    "step = 0\n",
    "print(step)\n",
    "\n",
    "\n",
    "\n",
    "def triggerAlert(code):\n",
    "    if code == \"lessWood\":\n",
    "        #trigger push notification for adding new wood\n",
    "        print(\"time to add more wood\")\n",
    "        \n",
    "triggerAlert(\"lessWood\")\n"
   ],
   "metadata": {
    "collapsed": false,
    "pycharm": {
     "name": "#%%\n",
     "is_executing": false
    }
   }
  },
  {
   "cell_type": "code",
   "execution_count": null,
   "outputs": [
    {
     "name": "stdout",
     "text": [
      "[2020-06-07 14:43:49,961] [timeloop] [INFO] Starting Timeloop..\n",
      "[2020-06-07 14:43:49,962] [timeloop] [INFO] Timeloop now started. Jobs will run based on the interval set\n"
     ],
     "output_type": "stream"
    }
   ],
   "source": [
    "import numpy as np\n",
    "import time\n",
    "from timeloop import Timeloop\n",
    "from datetime import timedelta\n",
    "\n",
    "a = [1,2,3,4,5]\n",
    "\n",
    "tl = Timeloop()\n",
    "tl.start(block=True)\n",
    "\n",
    "@tl.job(interval=timedelta(seconds=2))\n",
    "def sample_job_every_2s():   \n",
    "    x = np.random.randint(0,100,1)[0]\n",
    "    b = np.append(a[1:5],x)\n",
    "    print(b)\n",
    "\n",
    "@tl.job(interval=timedelta(seconds=10))\n",
    "def stop():\n",
    "    tl.stop()\n",
    "    print(\"stop\")"
   ],
   "metadata": {
    "collapsed": false,
    "pycharm": {
     "name": "#%%\n",
     "is_executing": true
    }
   }
  },
  {
   "cell_type": "code",
   "execution_count": 17,
   "outputs": [
    {
     "name": "stdout",
     "text": [
      "3\n[[11, 2, 3, 4, 5, 6, 7], [12, 2, 3, 4, 5, 6, 7], [13, 2, 3, 4, 5, 6, 7]]\n[13, 2, 3, 4, 5, 6, 7]\n[12  2  3  4  5  6  7]\n"
     ],
     "output_type": "stream"
    }
   ],
   "source": [
    "a = [[11,2,3,4,5,6,7],[12,2,3,4,5,6,7]]\n",
    "a.append([13,2,3,4,5,6,7])\n",
    "print(len(a))\n",
    "print(a)\n",
    "\n",
    "l = a[len(a)-1]\n",
    "print(l)\n",
    "\n",
    "\n",
    "b = np.array(a)\n",
    "print(b[1])"
   ],
   "metadata": {
    "collapsed": false,
    "pycharm": {
     "name": "#%%\n",
     "is_executing": false
    }
   }
  },
  {
   "cell_type": "code",
   "execution_count": 22,
   "outputs": [
    {
     "name": "stdout",
     "text": [
      "Fan: 100% ; Drosselklappe: 73% ; CurrentTemp: 125.8; SRZs: 0.0\n"
     ],
     "output_type": "stream"
    }
   ],
   "source": [
    "fan = 1.0\n",
    "drosselklappe = 0.73\n",
    "steamRegularizers = 0.0\n",
    "currentTemp = 125.8\n",
    "\n",
    "print(\"Fan: \" + str(int(fan*100)) + \"% ; Drosselklappe: \" + str(int(drosselklappe*100)) + \"% ; CurrentTemp: \" + str(currentTemp) + \"; SRZs: \" + str(steamRegularizers)) "
   ],
   "metadata": {
    "collapsed": false,
    "pycharm": {
     "name": "#%%\n",
     "is_executing": false
    }
   }
  },
  {
   "cell_type": "code",
   "execution_count": 25,
   "outputs": [
    {
     "name": "stdout",
     "text": [
      "[ 6  7  8  9 10]\n"
     ],
     "output_type": "stream"
    }
   ],
   "source": [
    "a = [0,1,2,3,4,5,6,7,8,9]\n",
    "a.append(10)\n",
    "\n",
    "length = 5\n",
    "ind_start = len(a)-length\n",
    "b = np.array(a[ind_start:])\n",
    "\n",
    "print(b)"
   ],
   "metadata": {
    "collapsed": false,
    "pycharm": {
     "name": "#%%\n",
     "is_executing": false
    }
   }
  },
  {
   "cell_type": "code",
   "execution_count": 26,
   "outputs": [
    {
     "name": "stdout",
     "text": [
      "[1, 2, 3]\n"
     ],
     "output_type": "stream"
    }
   ],
   "source": [
    "a=[1,2,3,4,5]\n",
    "print(a[:3])"
   ],
   "metadata": {
    "collapsed": false,
    "pycharm": {
     "name": "#%%\n",
     "is_executing": false
    }
   }
  },
  {
   "cell_type": "code",
   "execution_count": 15,
   "outputs": [
    {
     "name": "stdout",
     "text": [
      "Falsenone\n"
     ],
     "output_type": "stream"
    }
   ],
   "source": [
    "alertCodes= {\"lesswood\":False, \"sensorerror\":False, \"programfail\":False , \"message\":\"none\"}\n",
    "\n",
    "print(str(alertCodes[\"lesswood\"]) + alertCodes[\"message\"])\n",
    "\n"
   ],
   "metadata": {
    "collapsed": false,
    "pycharm": {
     "name": "#%%\n",
     "is_executing": false
    }
   }
  }
 ],
 "metadata": {
  "language_info": {
   "codemirror_mode": {
    "name": "ipython",
    "version": 2
   },
   "file_extension": ".py",
   "mimetype": "text/x-python",
   "name": "python",
   "nbconvert_exporter": "python",
   "pygments_lexer": "ipython2",
   "version": "2.7.6"
  },
  "kernelspec": {
   "name": "python3",
   "language": "python",
   "display_name": "Python 3"
  },
  "pycharm": {
   "stem_cell": {
    "cell_type": "raw",
    "source": [],
    "metadata": {
     "collapsed": false
    }
   }
  }
 },
 "nbformat": 4,
 "nbformat_minor": 0
}